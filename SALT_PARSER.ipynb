{
 "cells": [
  {
   "cell_type": "code",
   "execution_count": null,
   "metadata": {},
   "outputs": [],
   "source": [
    "import csv\n",
    "import pandas as pd\n",
    "import numpy as np\n",
    "import ctdcal.fit_ctd as fit_ctd\n",
    "import os"
   ]
  },
  {
   "cell_type": "code",
   "execution_count": null,
   "metadata": {},
   "outputs": [],
   "source": [
    "salt_Dir = './data/salt/'\n",
    "\n",
    "file_list = os.listdir(salt_Dir)\n",
    "files = []\n",
    "for file in file_list:\n",
    "    if '.' not in file:\n",
    "        files.append(file)"
   ]
  },
  {
   "cell_type": "code",
   "execution_count": null,
   "metadata": {},
   "outputs": [],
   "source": [
    "files"
   ]
  },
  {
   "cell_type": "code",
   "execution_count": null,
   "metadata": {},
   "outputs": [],
   "source": [
    "def salt_loader(saltpath):\n",
    "    f = open(saltpath, newline='')\n",
    "    saltF = csv.reader(f,delimiter=' ', quoting=csv.QUOTE_NONE, skipinitialspace='True')\n",
    "    \n",
    "    saltArray = []\n",
    "    for row in saltF:\n",
    "        saltArray.append(row)\n",
    "    del saltArray[0]\n",
    "         \n",
    "    header = ['STNNBR','CASTNO','SAMPNO','BathTEMP','CRavg','autosalSAMPNO',\\\n",
    "              'Unknown','StartTime','EndTime','Attempts','Reading1','Reading2',\\\n",
    "              'Reading3', 'Reading4', 'Reading5','Reading6','Reading7','Reading8',\\\n",
    "              'Reading9', 'Reading10','Reading11','Reading12']\n",
    "    f.close()\n",
    "    # make all rows of Salt files the same length as header   \n",
    "    for row in saltArray:\n",
    "        if len(row) < len(header):\n",
    "            row.extend([np.NaN]*(len(header)-len(row)))\n",
    "            \n",
    "    saltArray = np.array(saltArray) # change to np array\n",
    "    \n",
    "    saltDF = pd.DataFrame(saltArray,columns=header) # change to DataFrame\n",
    "    saltDF = saltDF.apply(pd.to_numeric, errors='ignore')\n",
    "    saltDF.replace(to_replace='nan', value=np.NaN,inplace=True)\n",
    "    saltDF.dropna(axis=1,how='all',inplace=True)\n",
    "    saltDF = saltDF[saltDF['autosalSAMPNO'] != 'worm']\n",
    "    saltDF['SALNTY'] = fit_ctd.SP_salinometer((saltDF['CRavg']/2.0),saltDF['BathTEMP'])\n",
    "    return saltDF\n",
    "\n",
    "def salt_df_parser(saltDF, outdir, stn_col = 'STNNBR', cast_col = 'CASTNO'):\n",
    "    stations = saltDF[stn_col].unique()\n",
    "    for station in stations:\n",
    "        saltStation = saltDF[saltDF[stn_col] == station]\n",
    "        casts = saltStation[cast_col].unique()\n",
    "        for cast in casts:\n",
    "            stn_cast_salts = saltStation[saltStation[cast_col] == cast]\n",
    "        # write out individual cast files\n",
    "            station_string = str(station)\n",
    "            cast_string = str(cast)\n",
    "            if len(station_string) == 2:\n",
    "                station_string = '0' + station_string\n",
    "            if len(station_string) == 1:\n",
    "                station_string = '00' + station_string\n",
    "            if len(cast_string) == 1:\n",
    "                cast_string = '0' + cast_string\n",
    "            \n",
    "            outfile = outdir + station_string + cast_string + '_salts.csv'\n",
    "            if not os.path.exists(outfile):\n",
    "                stn_cast_salts.to_csv(outfile,index=False)\n",
    "            else:\n",
    "                print(outfile + ' already exists...skipping')\n",
    "        "
   ]
  },
  {
   "cell_type": "code",
   "execution_count": null,
   "metadata": {},
   "outputs": [],
   "source": [
    "for file in files:\n",
    "    print(file)\n",
    "    salt_path = salt_Dir + file\n",
    "    saltDF = salt_loader(saltpath=salt_path)\n",
    "    salt_df_parser(saltDF, salt_Dir)"
   ]
  }
 ],
 "metadata": {
  "kernelspec": {
   "display_name": "Python 3",
   "language": "python",
   "name": "python3"
  },
  "language_info": {
   "codemirror_mode": {
    "name": "ipython",
    "version": 3
   },
   "file_extension": ".py",
   "mimetype": "text/x-python",
   "name": "python",
   "nbconvert_exporter": "python",
   "pygments_lexer": "ipython3",
   "version": "3.7.3"
  }
 },
 "nbformat": 4,
 "nbformat_minor": 2
}
