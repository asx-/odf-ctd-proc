{
 "cells": [
  {
   "cell_type": "markdown",
   "metadata": {},
   "source": [
    "# CTDCAL"
   ]
  },
  {
   "cell_type": "markdown",
   "metadata": {},
   "source": [
    "### Import Libraries"
   ]
  },
  {
   "cell_type": "code",
   "execution_count": null,
   "metadata": {},
   "outputs": [],
   "source": [
    "import os\n",
    "import time\n",
    "import sys\n",
    "sys.path.append('ctdcal/')\n",
    "import settings\n",
    "import ctdcal.process_ctd as process_ctd\n",
    "import ctdcal.fit_ctd as fit_ctd\n",
    "import pandas as pd\n",
    "import numpy as np\n",
    "import gsw\n",
    "import ctdcal.oxy_fitting as oxy_fitting\n",
    "import sbe_convert\n",
    "import matplotlib.pyplot as plt\n",
    "from decimal import Decimal\n",
    "plt.style.use('dark_background')\n",
    "import scipy\n",
    "import rinko"
   ]
  },
  {
   "cell_type": "markdown",
   "metadata": {},
   "source": [
    "### Get Variables from settings.py"
   ]
  },
  {
   "cell_type": "code",
   "execution_count": null,
   "metadata": {},
   "outputs": [],
   "source": [
    "    # Directory and file information\n",
    "    expocode = settings.cruise['expocode']\n",
    "    sectionID = settings.cruise['sectionid']\n",
    "    raw_directory = settings.ctd_processing_dir['raw_data_directory']\n",
    "    time_directory = settings.ctd_processing_dir['time_data_directory']\n",
    "    converted_directory = settings.ctd_processing_dir['converted_directory']\n",
    "    pressure_directory = settings.ctd_processing_dir['pressure_data_directory']\n",
    "    oxygen_directory = settings.ctd_processing_dir['oxygen_directory']\n",
    "    btl_directory = settings.ctd_processing_dir['bottle_directory']\n",
    "    o2flask_file = settings.ctd_processing_dir['o2flask_file']\n",
    "    log_directory = settings.ctd_processing_dir['log_directory']\n",
    "    p_log_file = settings.ctd_processing_dir['pressure_log']\n",
    "    hex_prefix = settings.ctd_processing_dir['hex_prefix']\n",
    "    hex_postfix = settings.ctd_processing_dir['hex_postfix']\n",
    "    xml_prefix = settings.ctd_processing_dir['xml_prefix']\n",
    "    xml_postfix = settings.ctd_processing_dir['xml_postfix']\n",
    "    \n",
    "    # CTD Data Inputs\n",
    "    p_col = settings.ctd_inputs['p']\n",
    "    t_col = settings.ctd_inputs['t2']\n",
    "    t1_col = settings.ctd_inputs['t1']\n",
    "    t2_col = settings.ctd_inputs['t2']\n",
    "    c_col = settings.ctd_inputs['c2']\n",
    "    c1_col = settings.ctd_inputs['c1']\n",
    "    c2_col = settings.ctd_inputs['c2']\n",
    "    sal_col = settings.ctd_inputs['salt']\n",
    "    dov_col = settings.ctd_inputs['dov']\n",
    "    lat_col = settings.ctd_inputs['lat']\n",
    "    lon_col = settings.ctd_inputs['lon']\n",
    "    time_col = settings.ctd_inputs['scan_datetime']\n",
    "    rinko_volts = settings.ctd_inputs['rinko_oxy']\n",
    "    \n",
    "\n",
    "        # Bottle Data Inputs\n",
    "    p_btl_col = settings.bottle_inputs['p']\n",
    "    t_btl_col = settings.bottle_inputs['t2']\n",
    "    t1_btl_col = settings.bottle_inputs['t1']\n",
    "    t2_btl_col = settings.bottle_inputs['t2']\n",
    "    c_btl_col = settings.bottle_inputs['c2']\n",
    "    c1_btl_col = settings.bottle_inputs['c1']\n",
    "    c2_btl_col = settings.bottle_inputs['c2']\n",
    "    reft_col = settings.bottle_inputs['reft']\n",
    "    cond_col = settings.bottle_inputs['btl_cond']\n",
    "    cr_avg = settings.bottle_inputs['cond_ratio']\n",
    "    bath_temp = settings.bottle_inputs['bath_temp']\n",
    "    sal_btl_col = settings.bottle_inputs['salt']\n",
    "    dov_btl_col = settings.bottle_inputs['dov']\n",
    "    lat_btl_col = settings.bottle_inputs['lat']\n",
    "    lon_btl_col = settings.bottle_inputs['lon']\n",
    "    oxy_btl_col = settings.bottle_inputs['btl_oxy']\n",
    "    time_btl_col = settings.bottle_inputs['scan_datetime']\n",
    "    btl_num = settings.bottle_inputs['btl_num']\n",
    "    rinko_btl_volts = settings.bottle_inputs['rinko_oxy']\n",
    "    \n",
    "    # CTD Information    \n",
    "    sample_rate = settings.ctd_processing_constants['sample_rate']\n",
    "    search_time = settings.ctd_processing_constants['roll_filter_time']\n",
    "    ctd = settings.ctd_processing_constants['ctd_serial']\n",
    "    \n",
    "    p_column_names = settings.pressure_series_output['column_names']\n",
    "    p_column_units = settings.pressure_series_output['column_units']\n",
    "    \n",
    "    btl_data_prefix = 'data/bottle/'\n",
    "    btl_data_postfix = '_btl_mean.pkl'\n",
    "    time_data_prefix = 'data/time/'\n",
    "    time_data_postfix = '_time.pkl'\n",
    "    p_log_file = 'data/logs/ondeck_pressure.csv'\n",
    " \n",
    "\n",
    "    \n",
    "    # Columns from btl and ctd file to be read:\n",
    "    btl_cols = settings.btl_input_array\n",
    "    ctd_cols = settings.ctd_input_array\n",
    "    \n",
    "    ssscc = settings.ssscc\n",
    "\n",
    "#    time_start = time.perf_counter()\n",
    "    cnv_dir_list = os.listdir(converted_directory)\n",
    "    time_dir_list = os.listdir(time_directory)\n",
    "    btl_dir_list = os.listdir(btl_directory)"
   ]
  },
  {
   "cell_type": "markdown",
   "metadata": {},
   "source": [
    "### Get last cast from each station (optional)"
   ]
  },
  {
   "cell_type": "code",
   "execution_count": null,
   "metadata": {},
   "outputs": [],
   "source": [
    "# import numpy as np\n",
    "# ssscc_2 = []\n",
    "# for x in ssscc:\n",
    "#     ssscc_2.append(x[0:3])\n",
    "    \n",
    "# arr, index, counts = np.unique(ssscc_2,return_index=True,return_counts=True)\n",
    "# last_instance = counts - 1\n",
    "# last_instance = list(last_instance + index)\n",
    "# ssscc = np.array(ssscc)\n",
    "# ssscc = list(ssscc[last_instance])\n",
    "\n"
   ]
  },
  {
   "cell_type": "markdown",
   "metadata": {},
   "source": [
    "### Remove any specific stations (optional)"
   ]
  },
  {
   "cell_type": "code",
   "execution_count": null,
   "metadata": {},
   "outputs": [],
   "source": [
    "ssscc.remove('90101')\n",
    "ssscc.remove('00901')"
   ]
  },
  {
   "cell_type": "code",
   "execution_count": null,
   "metadata": {},
   "outputs": [],
   "source": [
    "ssscc = ssscc[78:88]"
   ]
  },
  {
   "cell_type": "markdown",
   "metadata": {},
   "source": [
    "### _Convert SBE files to pkl_"
   ]
  },
  {
   "cell_type": "code",
   "execution_count": null,
   "metadata": {},
   "outputs": [],
   "source": [
    "    for station in ssscc:\n",
    "        if '{}.pkl'.format(station) in cnv_dir_list:\n",
    "            continue\n",
    "        #convert hex to ctd\n",
    "        hex_file = hex_prefix + station + hex_postfix\n",
    "        xml_file = xml_prefix + station + xml_postfix\n",
    "        \n",
    "        sbe_convert.convert_sbe(station, hex_file, xml_file, converted_directory)\n",
    "        print('Converted_sbe SSSCC: ' + station + ' done')"
   ]
  },
  {
   "cell_type": "markdown",
   "metadata": {},
   "source": [
    "### _Create Time files_"
   ]
  },
  {
   "cell_type": "code",
   "execution_count": null,
   "metadata": {},
   "outputs": [],
   "source": [
    "    for station in ssscc:\n",
    "        if '{}_time.pkl'.format(station) in time_dir_list:\n",
    "            continue\n",
    "        sbe_convert.sbe_metadata(station)\n",
    "        print('sbe_metadata SSSCC: ' + station + ' done')"
   ]
  },
  {
   "cell_type": "markdown",
   "metadata": {},
   "source": [
    "### _Create Bottle files_"
   ]
  },
  {
   "cell_type": "code",
   "execution_count": null,
   "metadata": {},
   "outputs": [],
   "source": [
    "    for station in ssscc:\n",
    "        if '{}_btl_mean.pkl'.format(station) in btl_dir_list:\n",
    "            continue\n",
    "        #process bottle file\n",
    "        sbe_convert.process_bottle(station)\n",
    "        print('process_bottle SSSCC: ' + station + ' done')"
   ]
  },
  {
   "cell_type": "markdown",
   "metadata": {},
   "source": [
    "### _Load all btl and ctd files_"
   ]
  },
  {
   "cell_type": "code",
   "execution_count": null,
   "metadata": {},
   "outputs": [],
   "source": [
    "    btl_data_all = process_ctd.load_all_ctd_files(ssscc,btl_data_prefix,\n",
    "                                                  btl_data_postfix,'bottle',btl_cols)\n",
    "    time_data_all = process_ctd.load_all_ctd_files(ssscc,time_data_prefix,\n",
    "                                                   time_data_postfix,'time',ctd_cols)\n",
    "    btl_data_all.drop_duplicates(inplace=True)\n",
    "    \n",
    "    # Add Expocode and sect_id columns\n",
    "    btl_data_all['EXPOCODE'] = settings.cruise['expocode']\n",
    "    btl_data_all['SECT_ID'] = settings.cruise['sectionid']\n",
    "    # Add Station and Cast number columns from ssscc column\n",
    "    btl_data_all['STNNBR'] = process_ctd.stnnbr_from_ssscc(btl_data_all['SSSCC'])\n",
    "    btl_data_all['CASTNO'] = process_ctd.castno_from_ssscc(btl_data_all['SSSCC'])\n",
    "    # Add btl number and sample number\n",
    "    btl_data_all = process_ctd.add_btlnbr_cols(btl_data_all, btl_num)\n",
    "    btl_data_all = process_ctd.add_sampno_col(btl_data_all, btl_num)"
   ]
  },
  {
   "cell_type": "markdown",
   "metadata": {},
   "source": [
    "# Pressure Calibration"
   ]
  },
  {
   "cell_type": "code",
   "execution_count": null,
   "metadata": {},
   "outputs": [],
   "source": [
    "    pressure_log = process_ctd.load_pressure_logs(p_log_file)\n",
    "    p_off = process_ctd.get_pressure_offset(pressure_log.ondeck_start_p,pressure_log.ondeck_end_p)\n",
    "    \n",
    "    if ~np.isnan(p_off):\n",
    "        btl_data_all = fit_ctd.apply_pressure_offset(btl_data_all, p_btl_col, p_off)\n",
    "        time_data_all = fit_ctd.apply_pressure_offset(time_data_all, p_btl_col, p_off)"
   ]
  },
  {
   "cell_type": "markdown",
   "metadata": {},
   "source": [
    "# Temperature Calibration"
   ]
  },
  {
   "cell_type": "code",
   "execution_count": null,
   "metadata": {},
   "outputs": [],
   "source": [
    "    df_ques_t1 = pd.DataFrame()\n",
    "    df_ques_t2 = pd.DataFrame()\n",
    "    \n",
    "    df_ques_c1 = pd.DataFrame()\n",
    "    df_ques_c2 = pd.DataFrame()\n",
    "\n",
    "    ### Temperature Calibration   \n",
    "    for x in range(2):\n",
    "        \n",
    "     # Second order calibration\n",
    "             \n",
    "        df_temp_good = process_ctd.prepare_fit_data(btl_data_all, reft_col)\n",
    "        \n",
    "        df_ques_reft = process_ctd.quality_check(df_temp_good[t2_btl_col], df_temp_good[t1_btl_col], df_temp_good[p_btl_col], df_temp_good['SSSCC'], df_temp_good['btl_fire_num'], 'quest')\n",
    "        df_ques_reft['Parameter'] = 'REF_TEMP'\n",
    "        \n",
    "\n",
    "\n",
    "        if settings.do_primary == 1:\n",
    "            coef_temp_1,df_ques_t1 = process_ctd.calibrate_param(df_temp_good[t1_btl_col], df_temp_good[reft_col], df_temp_good[p_btl_col], 'TP', 2, df_temp_good.SSSCC, df_temp_good.btl_fire_num, xRange='800:6000')\n",
    "            btl_data_all[t1_btl_col] = fit_ctd.temperature_polyfit(btl_data_all[t1_btl_col], btl_data_all[p_btl_col], coef_temp_1)\n",
    "            time_data_all[t1_col] = fit_ctd.temperature_polyfit(time_data_all[t1_col], time_data_all[p_col], coef_temp_1)\n",
    "        \n",
    "        if settings.do_secondary == 1:\n",
    "            coef_temp_2,df_ques_t2 = process_ctd.calibrate_param(df_temp_good[t2_btl_col], df_temp_good[reft_col], df_temp_good[p_btl_col], 'TP', 2, df_temp_good.SSSCC, df_temp_good.btl_fire_num, xRange='1500:6000')\n",
    "            btl_data_all[t2_btl_col] = fit_ctd.temperature_polyfit(btl_data_all[t2_btl_col], btl_data_all[p_btl_col], coef_temp_2)\n",
    "            time_data_all[t2_col] = fit_ctd.temperature_polyfit(time_data_all[t2_col], time_data_all[p_col], coef_temp_2)\n",
    "    \n",
    "    # Apply fitting coef to data\n",
    "  \n",
    "    # Construct Quality Flag file\n",
    "    \n",
    "        qual_flag_temp = process_ctd.combine_quality_flags([df_ques_reft,df_ques_t1,df_ques_t2])\n",
    "   \n",
    "    ## First order calibtation\n",
    "    \n",
    "        df_temp_good = process_ctd.prepare_fit_data(btl_data_all, reft_col)\n",
    "        \n",
    "#        df_ques_reft = process_ctd.quality_check(df_temp_good[t2_btl_col], df_temp_good[t1_btl_col], df_temp_good[p_btl_col], df_temp_good['SSSCC'], df_temp_good['btl_fire_num'], 'quest')\n",
    "#        df_ques_reft['Parameter'] = 'REF_TEMP'\n",
    "        if settings.do_primary == 1:\n",
    "            coef_temp_prim,df_ques_t1 = process_ctd.calibrate_param(df_temp_good[t1_btl_col], df_temp_good[reft_col], df_temp_good[p_btl_col], 'T', 1, df_temp_good.SSSCC, df_temp_good.btl_fire_num)\n",
    "            btl_data_all[t1_btl_col] = fit_ctd.temperature_polyfit(btl_data_all[t1_btl_col], btl_data_all[p_btl_col], coef_temp_prim)\n",
    "            time_data_all[t1_col] = fit_ctd.temperature_polyfit(time_data_all[t1_col], time_data_all[p_col], coef_temp_prim)\n",
    "        \n",
    "        if settings.do_secondary == 1:\n",
    "            coef_temp_sec,df_ques_t2 = process_ctd.calibrate_param(df_temp_good[t2_btl_col], df_temp_good[reft_col], df_temp_good[p_btl_col], 'T', 1, df_temp_good.SSSCC, df_temp_good.btl_fire_num)\n",
    "            btl_data_all[t2_btl_col] = fit_ctd.temperature_polyfit(btl_data_all[t2_btl_col], btl_data_all[p_btl_col], coef_temp_sec)\n",
    "            time_data_all[t2_col] = fit_ctd.temperature_polyfit(time_data_all[t2_col], time_data_all[p_col], coef_temp_sec)\n",
    "        \n",
    "        \n",
    "        \n",
    "    # Apply fitting coef to data\n",
    "            \n",
    "        qual_flag_temp = process_ctd.combine_quality_flags([df_ques_reft,df_ques_t1,df_ques_t2])\n",
    "    time_data_all['CTDTMP'] = time_data_all[t_col]\n",
    "    time_data_all['CTDTMP_FLAG_W'] = 2\n",
    "    btl_data_all['CTDTMP'] = btl_data_all[t_btl_col]"
   ]
  },
  {
   "cell_type": "markdown",
   "metadata": {},
   "source": [
    "# Conductivity Calibration"
   ]
  },
  {
   "cell_type": "code",
   "execution_count": null,
   "metadata": {},
   "outputs": [],
   "source": [
    "    for x in range(2):\n",
    "        \n",
    "        btl_data_all[cond_col] = fit_ctd.CR_to_cond(btl_data_all[cr_avg], btl_data_all[bath_temp], btl_data_all[t1_btl_col], btl_data_all[p_btl_col])\n",
    "        df_cond_good = process_ctd.prepare_fit_data(btl_data_all, cond_col)\n",
    "\n",
    "        df_ques_refc = process_ctd.quality_check(df_cond_good[c2_btl_col], df_cond_good[c1_btl_col], df_cond_good[p_btl_col], df_cond_good['SSSCC'], df_cond_good['btl_fire_num'], 'quest')\n",
    "        df_ques_refc['Parameter'] = 'REF_COND'\n",
    "\n",
    "    # Second Order Calibration\n",
    "        if settings.do_primary == 1:\n",
    "            coef_cond_1,df_ques_c1 = process_ctd.calibrate_param(df_cond_good[c1_btl_col], df_cond_good[cond_col], df_cond_good[p_btl_col], 'CP', 2, df_cond_good['SSSCC'], df_cond_good['btl_fire_num'], xRange='800:6000')\n",
    "            btl_data_all[c1_btl_col] = fit_ctd.conductivity_polyfit(btl_data_all[c1_btl_col], btl_data_all[t1_btl_col], btl_data_all[p_btl_col], coef_cond_1)\n",
    "            time_data_all[c1_col] = fit_ctd.conductivity_polyfit(time_data_all[c1_col], time_data_all[t1_col], time_data_all[p_col], coef_cond_1)\n",
    "        \n",
    "        if settings.do_secondary == 1:\n",
    "            coef_cond_2,df_ques_c2 = process_ctd.calibrate_param(df_cond_good[c2_btl_col], df_cond_good[cond_col], df_cond_good[p_btl_col], 'CP', 2, df_cond_good['SSSCC'], df_cond_good['btl_fire_num'], xRange='1500:6000')\n",
    "            btl_data_all[c2_btl_col] = fit_ctd.conductivity_polyfit(btl_data_all[c2_btl_col], btl_data_all[t2_btl_col], btl_data_all[p_btl_col] ,coef_cond_2)\n",
    "            time_data_all[c2_btl_col] = fit_ctd.conductivity_polyfit(time_data_all[c2_col], time_data_all[t2_col], time_data_all[p_col], coef_cond_2)\n",
    "\n",
    "        qual_flag_cond = process_ctd.combine_quality_flags([df_ques_c1,df_ques_c2,df_ques_refc])\n",
    "    \n",
    "        \n",
    "        btl_data_all[cond_col] = fit_ctd.CR_to_cond(btl_data_all[cr_avg], btl_data_all[bath_temp], btl_data_all[t1_btl_col], btl_data_all[p_btl_col])\n",
    "        df_cond_good = process_ctd.prepare_fit_data(btl_data_all,cond_col)\n",
    "    \n",
    "        if settings.do_primary == 1:\n",
    "            coef_cond_prim,df_ques_c1 = process_ctd.calibrate_param(df_cond_good[c1_btl_col], df_cond_good[cond_col], df_cond_good[p_btl_col], 'C', 2 , df_cond_good['SSSCC'], df_cond_good['btl_fire_num'])\n",
    "            btl_data_all[c1_btl_col] = fit_ctd.conductivity_polyfit(btl_data_all[c1_btl_col], btl_data_all[t1_btl_col], btl_data_all[p_btl_col], coef_cond_prim)        \n",
    "            time_data_all[c1_col] = fit_ctd.conductivity_polyfit(time_data_all[c1_col], time_data_all[t1_col], time_data_all[p_col], coef_cond_prim)\n",
    "        \n",
    "        if settings.do_secondary == 1:\n",
    "            coef_cond_sec,df_ques_c2 = process_ctd.calibrate_param(df_cond_good.CTDCOND2,df_cond_good.BTLCOND,df_cond_good.CTDPRS,'C',2,df_cond_good.SSSCC,df_cond_good.btl_fire_num)\n",
    "            btl_data_all[c2_btl_col] = fit_ctd.conductivity_polyfit(btl_data_all[c2_btl_col], btl_data_all[t2_btl_col], btl_data_all[p_btl_col], coef_cond_sec)\n",
    "            time_data_all[c2_col] = fit_ctd.conductivity_polyfit(time_data_all[c2_col], time_data_all[t2_col], time_data_all[p_col], coef_cond_sec)\n",
    "        \n",
    "    \n",
    "        qual_flag_cond = process_ctd.combine_quality_flags([df_ques_c1, df_ques_c2, df_ques_refc])\n",
    "        \n",
    "    btl_data_all[sal_btl_col] = gsw.SP_from_C(btl_data_all[c_btl_col],btl_data_all[t_btl_col],btl_data_all[p_btl_col])\n",
    "    time_data_all[sal_col] = gsw.SP_from_C(time_data_all[c_col], time_data_all[t_col], time_data_all[p_col])\n",
    "    time_data_all['CTDSAL_FLAG_W'] = 2"
   ]
  },
  {
   "cell_type": "markdown",
   "metadata": {},
   "source": [
    "# **Oxygen Calibration**"
   ]
  },
  {
   "cell_type": "markdown",
   "metadata": {},
   "source": [
    "### *Calculate required oxygen parameter*"
   ]
  },
  {
   "cell_type": "code",
   "execution_count": null,
   "metadata": {},
   "outputs": [],
   "source": [
    "    # Calculate Sigma\n",
    "    btl_data_all['sigma_btl'] = oxy_fitting.sigma_from_CTD(btl_data_all[sal_btl_col], btl_data_all[t_btl_col], btl_data_all[p_btl_col], btl_data_all[lon_btl_col], btl_data_all[lat_btl_col])\n",
    "    time_data_all['sigma_ctd'] = oxy_fitting.sigma_from_CTD(time_data_all[sal_col], time_data_all[t_col], time_data_all[p_col], time_data_all[lon_col], time_data_all[lat_col])\n",
    "\n",
    "    btl_data_all[oxy_btl_col] = oxy_fitting.calculate_bottle_oxygen(ssscc, btl_data_all['SSSCC'], btl_data_all['TITR_VOL'], btl_data_all['TITR_TEMP'], btl_data_all['FLASKNO'])\n",
    "    btl_data_all[oxy_btl_col] = oxy_fitting.oxy_ml_to_umolkg(btl_data_all[oxy_btl_col], btl_data_all['sigma_btl'])\n",
    "    btl_data_all['OXYGEN_FLAG_W'] = oxy_fitting.flag_winkler_oxygen(btl_data_all[oxy_btl_col])\n",
    "\n",
    "    # Calculate SA and PT\n",
    "    btl_data_all['SA'] = gsw.SA_from_SP(btl_data_all[sal_btl_col], btl_data_all[p_btl_col], btl_data_all[lon_btl_col], btl_data_all[lat_btl_col])\n",
    "    btl_data_all['PT'] = gsw.pt0_from_t(btl_data_all['SA'], btl_data_all[t_btl_col], btl_data_all[p_btl_col])\n",
    "\n",
    "    time_data_all['SA'] = gsw.SA_from_SP(time_data_all[sal_col], time_data_all[p_col], time_data_all[lon_col], time_data_all[lat_col])\n",
    "    time_data_all['PT'] = gsw.pt0_from_t(time_data_all['SA'], time_data_all[t_col], time_data_all[p_col])\n",
    "\n",
    "    # Calculate OS in µmol/kg\n",
    "\n",
    "    btl_data_all['OS_btl'] = oxy_fitting.os_umol_kg(btl_data_all['SA'], btl_data_all['PT'])\n",
    "    time_data_all['OS_ctd'] = oxy_fitting.os_umol_kg(time_data_all['SA'], time_data_all['PT'])   \n",
    "\n",
    "    coef_dict = {}"
   ]
  },
  {
   "cell_type": "code",
   "execution_count": null,
   "metadata": {},
   "outputs": [],
   "source": [
    "time_data_all.sort_values(by='sigma_ctd',inplace=True)\n",
    "btl_data_oxy = btl_data_all[btl_data_all['OXYGEN'].notna()].copy()\n",
    "btl_data_oxy.sort_values(by='sigma_btl',inplace=True)"
   ]
  },
  {
   "cell_type": "markdown",
   "metadata": {},
   "source": [
    "### *Collect data by station*"
   ]
  },
  {
   "cell_type": "code",
   "execution_count": null,
   "metadata": {},
   "outputs": [],
   "source": [
    "btl_data_all['oxy_stn_group'] = btl_data_all['SSSCC'].str[0:3]\n",
    "time_data_all['oxy_stn_group'] = time_data_all['SSSCC'].str[0:3]"
   ]
  },
  {
   "cell_type": "code",
   "execution_count": null,
   "metadata": {},
   "outputs": [],
   "source": [
    "station_list = time_data_all['oxy_stn_group'].unique()\n",
    "station_list = station_list.tolist()\n",
    "station_list.sort()"
   ]
  },
  {
   "cell_type": "code",
   "execution_count": null,
   "metadata": {},
   "outputs": [],
   "source": [
    "btl_data_oxy = btl_data_all.copy()#loc[btl_data_all['OXYGEN'].notnull()]"
   ]
  },
  {
   "cell_type": "code",
   "execution_count": null,
   "metadata": {},
   "outputs": [],
   "source": [
    "rinko_coef0 = rinko.rinko_o2_cal_parameters()\n"
   ]
  },
  {
   "cell_type": "code",
   "execution_count": null,
   "metadata": {},
   "outputs": [],
   "source": [
    "all_rinko_df = pd.DataFrame()\n",
    "all_sbe43_df = pd.DataFrame()\n",
    "rinko_dict = {}\n",
    "sbe43_dict = {}\n",
    "for station in station_list:\n",
    "    \n",
    "    #time_data = time_data_all[time_data_all['SSSCC'].str[0:3] == station].copy()\n",
    "    #btl_data = btl_data_oxy[btl_data_oxy['SSSCC'].str[0:3] == station].copy()\n",
    "    \n",
    "    time_data = time_data_all[time_data_all['oxy_stn_group'] == station].copy()\n",
    "    btl_data = btl_data_oxy[btl_data_oxy['oxy_stn_group'] == station].copy()\n",
    "    \n",
    "    rinko_coef, rinko_oxy_df = rinko.rinko_oxygen_fit(btl_data[p_btl_col],btl_data[oxy_btl_col],btl_data['sigma_btl'],time_data['sigma_ctd'],\n",
    "                           time_data['OS_ctd'],time_data[p_col],time_data[t_col],time_data[rinko_volts],rinko_coef0, btl_data['SSSCC']\n",
    "            )\n",
    "    station_ssscc = time_data['SSSCC'].values[0]\n",
    "    hex_file = hex_prefix + station_ssscc + hex_postfix\n",
    "    xml_file = xml_prefix + station_ssscc + xml_postfix\n",
    "    sbe_coef0 = oxy_fitting.get_SB_coef(hex_file, xml_file)\n",
    "    sbe_coef, sbe_oxy_df = oxy_fitting.sbe43_oxy_fit(btl_data[p_btl_col], btl_data[oxy_btl_col], btl_data['sigma_btl'],time_data['sigma_ctd'],\n",
    "                                                     time_data['OS_ctd'],time_data[p_col],time_data[t_col],time_data[dov_col],\n",
    "                                                     time_data['scan_datetime'],sbe_coef0,btl_data['SSSCC']\n",
    "                                                    )\n",
    "    \n",
    "    \n",
    "    rinko_dict[station] = rinko_coef\n",
    "    sbe43_dict[station] = sbe_coef\n",
    "    all_rinko_df = pd.concat([all_rinko_df,rinko_oxy_df])\n",
    "    all_sbe43_df = pd.concat([all_sbe43_df,sbe_oxy_df])\n",
    "    \n",
    "    print(station + ' Done!')\n",
    "\n",
    "sbe43_coef_df = oxy_fitting.create_coef_df(sbe43_dict)\n",
    "rinko_coef_df = oxy_fitting.create_coef_df(rinko_dict)\n",
    "\n",
    "btl_data_all = btl_data_all.merge(all_rinko_df, left_on=['SSSCC',p_btl_col], right_on=['SSSCC_rinko','CTDPRS_rinko_btl'],how='left')\n",
    "\n",
    "btl_data_all = btl_data_all.merge(all_sbe43_df, left_on=['SSSCC',p_btl_col], right_on=['SSSCC_sbe43','CTDPRS_sbe43_btl'],how='left')\n",
    "\n",
    "btl_data_all.drop(list(btl_data_all.filter(regex = 'rinko')), axis = 1, inplace = True)\n",
    "\n",
    "btl_data_all.drop(list(btl_data_all.filter(regex = 'sbe43')), axis = 1, inplace = True)\n",
    "\n",
    "### Handle Missing Values\n",
    "\n",
    "X = btl_data_all['CTDOXYVOLTS_x'], btl_data_all['CTDPRS'], btl_data_all['CTDTMP'], btl_data_all['dv_dt_x'], btl_data_all['OS_btl']\n",
    "rinko_X = btl_data_all[p_btl_col], btl_data_all[t_btl_col], btl_data_all[rinko_btl_volts], btl_data_all['OS_btl']\n",
    "\n",
    "for station in btl_data_all['SSSCC']:\n",
    "    coef_43 = sbe43_coef_df.loc[station[0:3]]\n",
    "    coef_rinko = rinko_coef_df.loc[station[0:3]]\n",
    "    btl_data_all['CTDOXY_fill'] = oxy_fitting.oxy_equation(X, coef_43[0], coef_43[1], coef_43[2], coef_43[3], coef_43[4], coef_43[5], coef_43[6])\n",
    "    btl_data_all['CTDRINKO_fill'] = rinko.rinko_curve_fit_eq(rinko_X, coef_rinko[0], coef_rinko[1], coef_rinko[2], coef_rinko[3], coef_rinko[4], coef_rinko[5], coef_rinko[6], coef_rinko[7])\n",
    "\n",
    "btl_data_all.loc[btl_data_all['CTDOXY'].isnull(),'CTDOXY_FLAG_W'] = 2\n",
    "btl_data_all.loc[btl_data_all['CTDOXY'].isnull(),'CTDOXY'] = btl_data_all.loc[btl_data_all['CTDOXY'].isnull(),'CTDOXY_fill']\n",
    "btl_data_all.loc[btl_data_all['CTDRINKO'].isnull(),'CTDRINKO_FLAG_W'] = 2\n",
    "btl_data_all.loc[btl_data_all['CTDRINKO'].isnull(),'CTDRINKO'] = btl_data_all.loc[btl_data_all['CTDRINKO'].isnull(),'CTDRINKO_fill']"
   ]
  },
  {
   "cell_type": "code",
   "execution_count": null,
   "metadata": {},
   "outputs": [],
   "source": [
    "btl_data_all = oxy_fitting.flag_oxy_data(btl_data_all)\n",
    "btl_data_all = oxy_fitting.flag_oxy_data(btl_data_all,ctd_oxy_col='CTDRINKO',flag_col='CTDRINKO_FLAG_W')"
   ]
  },
  {
   "cell_type": "code",
   "execution_count": null,
   "metadata": {},
   "outputs": [],
   "source": [
    "btl_data_all['res_rinko'] = btl_data_all['OXYGEN'] - btl_data_all['CTDRINKO']\n",
    "btl_data_all['res_sbe43'] = btl_data_all['OXYGEN'] - btl_data_all['CTDOXY']\n",
    "btl_data_all.loc[np.abs(btl_data_all['res_rinko']) >=6 , 'CTDRINKO_FLAG_W'] = 3\n",
    "btl_data_all.loc[np.abs(btl_data_all['res_sbe43']) >=6 , 'CTDOXY_FLAG_W'] = 3"
   ]
  },
  {
   "cell_type": "code",
   "execution_count": null,
   "metadata": {},
   "outputs": [],
   "source": [
    "good_df = btl_data_all[btl_data_all['CTDRINKO_FLAG_W'] == 2]\n",
    "print(good_df['res_rinko'].abs().std())\n",
    "print(len(good_df))\n",
    "plt.plot(good_df['res_rinko'], -good_df['CTDPRS'],'x')\n",
    "plt.xlim(-10,10)"
   ]
  },
  {
   "cell_type": "code",
   "execution_count": null,
   "metadata": {},
   "outputs": [],
   "source": [
    "good_df = btl_data_all[btl_data_all['CTDOXY_FLAG_W'] == 2]\n",
    "print(good_df['res_sbe43'].abs().std())\n",
    "print(len(good_df))\n",
    "plt.plot(good_df['res_sbe43'], -good_df['CTDPRS'],'x')\n",
    "plt.xlim(-10,10)"
   ]
  },
  {
   "cell_type": "code",
   "execution_count": null,
   "metadata": {},
   "outputs": [],
   "source": [
    "time_data_all['CTDOXY'] = '-999'\n",
    "time_data_all['CTDRINKO'] = '-999'\n",
    "btl_data_all.sort_values(by='sigma_btl',inplace=True)\n",
    "time_data_all.sort_values(by='sigma_ctd',inplace=True)\n",
    "for station in station_list:\n",
    "    rinko_coef = rinko_coef_df.loc[station].values\n",
    "    #time_data = time_data_all[time_data_all['SSSCC'].str[0:3] == station].copy()\n",
    "    time_data = time_data_all[time_data_all['oxy_stn_group'] == station].copy()\n",
    "    time_data['CTDOXY'] = oxy_fitting.SB_oxy_eq(sbe43_coef_df.loc[station],time_data[dov_col],time_data[p_col],time_data[t_col],time_data['dv_dt'],time_data['OS_ctd'])\n",
    "    time_data['CTDRINKO'] = rinko.rinko_curve_fit_eq((time_data[p_col],time_data[t_col],time_data[rinko_volts],time_data['OS_ctd']),rinko_coef[0],rinko_coef[1],\n",
    "                                                     rinko_coef[2],rinko_coef[3],rinko_coef[4],rinko_coef[5],rinko_coef[6],rinko_coef[7])\n",
    "    \n",
    "    time_data_all.loc[time_data_all['SSSCC'].str[0:3] == station,'CTDOXY'] = time_data['CTDOXY']\n",
    "    time_data_all.loc[time_data_all['SSSCC'].str[0:3] == station,'CTDRINKO'] = time_data['CTDRINKO']\n",
    "#    for stn in time_data['SSSCC'].unique():\n",
    "#        td = time_data.loc[time_data['SSSCC'] == stn].copy()\n",
    "#        td.sort_values(by='sigma_ctd',inplace=True)\n",
    "#        time_data_all.loc[time_data_all['SSSCC'] == stn,'CTDOXY'] = td['CTDOXY']\n",
    "#        time_data_all.loc[time_data_all['SSSCC'] == stn,'CTDRINKO'] = td['CTDRINKO']\n",
    "#    print(station + ' done!')\n",
    "time_data_all['CTDRINKO_FLAG_W'] = 2\n",
    "time_data_all['CTDOXY_FLAG_W'] = 2"
   ]
  },
  {
   "cell_type": "markdown",
   "metadata": {},
   "source": [
    "### Calculate Depths"
   ]
  },
  {
   "cell_type": "code",
   "execution_count": null,
   "metadata": {},
   "outputs": [],
   "source": [
    "depth_dict = {}\n",
    "for station in station_list:\n",
    "    print(station)\n",
    "    time_data = time_data_all[time_data_all['SSSCC'].str[0:3] == station].copy()\n",
    "    max_depth = process_ctd.find_cast_depth(time_data['CTDPRS'],time_data['GPSLAT'],time_data['ALT'])\n",
    "    depth_dict[station] = max_depth\n",
    "depth_df = pd.DataFrame.from_dict(depth_dict,orient='index')\n",
    "depth_df.reset_index(inplace=True)\n",
    "depth_df.rename(columns={0:'DEPTH', 'index':'STNNBR'}, inplace=True)\n",
    "\n",
    "depth_df.to_csv('data/logs/depth_log.csv',index=False)"
   ]
  },
  {
   "cell_type": "code",
   "execution_count": null,
   "metadata": {},
   "outputs": [],
   "source": [
    "### Apply Depths to DFs\n",
    "btl_data_all['DEPTH'] = '-999'\n",
    "time_data_all['DEPTH'] = '-999'\n",
    "depth_df = pd.read_csv('data/logs/depth_log.csv')\n",
    "depth_df.dropna(inplace=True)\n",
    "#manual_depth_df = pd.read_csv('data/logs/manual_depth_log.csv')\n",
    "#full_depth_df = pd.concat([depth_df,manual_depth_df])\n",
    "full_depth_df = depth_df.copy()\n",
    "full_depth_df['STNNBR'] = full_depth_df['STNNBR'].astype(str)\n",
    "full_depth_df['STNNBR'] = full_depth_df['STNNBR'].str.pad(width=3,fillchar='0')\n",
    "for station in station_list:\n",
    "    print(station)\n",
    "    btl_data_all.loc[btl_data_all['SSSCC'].str[0:3] == station,'DEPTH'] = full_depth_df.loc[full_depth_df['STNNBR'] == station,'DEPTH'].values[0]\n",
    "    time_data_all.loc[time_data_all['SSSCC'].str[0:3] == station,'DEPTH'] = full_depth_df.loc[full_depth_df['STNNBR'] == station,'DEPTH'].values[0]"
   ]
  },
  {
   "cell_type": "code",
   "execution_count": null,
   "metadata": {},
   "outputs": [],
   "source": [
    "btl_data_all = process_ctd.merge_cond_flags(btl_data_all,qual_flag_cond, c_btl_col)\n",
    "\n",
    "btl_data_all = process_ctd.merge_refcond_flags(btl_data_all,qual_flag_cond)\n",
    "\n",
    "btl_data_all = process_ctd.merged_reftemp_flags(btl_data_all,qual_flag_temp)\n",
    "\n",
    "btl_data_all = process_ctd.merge_temp_flags(btl_data_all, qual_flag_temp, t_btl_col)"
   ]
  },
  {
   "cell_type": "code",
   "execution_count": null,
   "metadata": {},
   "outputs": [],
   "source": [
    "qual_flag_temp.to_csv('data/logs/qual_flag_temp_new.csv',index=False)\n",
    "qual_flag_cond.to_csv('data/logs/qual_flag_cond_new.csv',index=False)\n",
    "#coef_df.to_csv('data/logs/oxygen_coef.csv',index_label=False)"
   ]
  },
  {
   "cell_type": "code",
   "execution_count": null,
   "metadata": {},
   "outputs": [],
   "source": [
    "time_data_all.rename(columns={'FLUOR':'CTDFLUOR','CTDBACKSCATTER':'CTDBBP700RAW'}, inplace=True)"
   ]
  },
  {
   "cell_type": "code",
   "execution_count": null,
   "metadata": {},
   "outputs": [],
   "source": [
    "#Add flags\n",
    "time_data_all['CTDBBP700RAW_FLAG_W'] = 1\n",
    "time_data_all['CTDFLUOR_FLAG_W'] = 1\n",
    "time_data_all['CTDXMISS_FLAG_W'] = 1\n",
    "\n",
    "btl_data_all['CTDFLUOR'] = btl_data_all['FLUOR']\n",
    "btl_data_all['CTDFLUOR_FLAG_W'] = 1\n",
    "btl_data_all['CTDXMISS_FLAG_W'] = 1"
   ]
  },
  {
   "cell_type": "code",
   "execution_count": null,
   "metadata": {},
   "outputs": [],
   "source": [
    "time_data_all.sort_values(by='master_index',inplace=True)\n",
    "btl_data_all.sort_values(by='master_index', inplace=True)"
   ]
  },
  {
   "cell_type": "code",
   "execution_count": null,
   "metadata": {},
   "outputs": [],
   "source": [
    "time_data_all = process_ctd.format_time_data(time_data_all)\n",
    "time_export = process_ctd.export_bin_data(time_data_all,ssscc,sample_rate, search_time,p_column_names,ssscc_col='SSSCC')"
   ]
  },
  {
   "cell_type": "code",
   "execution_count": null,
   "metadata": {},
   "outputs": [],
   "source": [
    "btl_data_all = process_ctd.flag_missing_btl_values(btl_data_all,settings.btl_flagged_params)"
   ]
  },
  {
   "cell_type": "code",
   "execution_count": null,
   "metadata": {},
   "outputs": [],
   "source": [
    "btl_export = process_ctd.format_btl_data(btl_data_all,settings.btl_flagged_params)"
   ]
  },
  {
   "cell_type": "code",
   "execution_count": null,
   "metadata": {},
   "outputs": [],
   "source": [
    "process_ctd.export_btl_data(btl_export, expocode, settings.btl_column_names, settings.btl_column_units, sectionID)"
   ]
  },
  {
   "cell_type": "markdown",
   "metadata": {},
   "source": [
    "### SANITY CHECKS"
   ]
  },
  {
   "cell_type": "code",
   "execution_count": null,
   "metadata": {},
   "outputs": [],
   "source": [
    "len(btl_data_all[btl_data_all['CTDOXY_FLAG_W']==3])"
   ]
  },
  {
   "cell_type": "code",
   "execution_count": null,
   "metadata": {},
   "outputs": [],
   "source": [
    "#OXYGEN\n",
    "#df_good = all_oxy_df[all_oxy_df['CTDOXY_FLAG_W']==2].copy()\n",
    "#df_good.loc[df_good['SSSCC_btl'] == '18603','SSSCC_btl'] = '01863'\n",
    "btl_data_all = oxy_fitting.flag_oxy_data(btl_data_all)\n",
    "df_good = btl_data_all[btl_data_all['CTDOXY_FLAG_W']==2].copy()\n",
    "df_good['res'] = df_good['OXYGEN'] - df_good['CTDOXY']\n",
    "df_good.loc[df_good['SSSCC'] == '18603','SSSCC'] = '01863'"
   ]
  },
  {
   "cell_type": "code",
   "execution_count": null,
   "metadata": {},
   "outputs": [],
   "source": [
    "df_good['res'].std()"
   ]
  },
  {
   "cell_type": "code",
   "execution_count": null,
   "metadata": {},
   "outputs": [],
   "source": [
    "len(btl_data_all[btl_data_all['CTDOXY_FLAG_W']==3])"
   ]
  },
  {
   "cell_type": "code",
   "execution_count": null,
   "metadata": {},
   "outputs": [],
   "source": [
    "def btl_oxy_residuals_pressure_plot(df):\n",
    "    fig = plt.figure()\n",
    "    ax = fig.add_subplot(1,1,1)\n",
    "    cm = ax.scatter(df['res'],-df['CTDPRS'], marker='+', c=df['SSSCC'].str[0:3].astype(int), cmap='rainbow')\n",
    "    ax.set_xlim(-10,10)\n",
    "    ax.set_title('OXYGEN-CTDOXY vs CTDPRS')\n",
    "    ax.set_xlabel('CTDOXY Residual (umol/kg)')\n",
    "    ax.set_ylabel('Pressure (dbar)')\n",
    "    cbar = fig.colorbar(cm)\n",
    "    cbar.set_label('Station Number')\n",
    "    \n",
    "def btl_c1_residuals_pressure_plot(df):\n",
    "    fig = plt.figure()\n",
    "    ax = fig.add_subplot(1,1,1)\n",
    "    cm = ax.scatter(df['BTL_C1'],-df['CTDPRS'], marker='+', c=df['SSSCC'].str[0:3].astype(int), cmap='rainbow')\n",
    "    ax.set_xlim(-0.02,0.02)\n",
    "    ax.set_title('BTLCOND-CTDCOND1 vs CTDPRS')\n",
    "    ax.set_xlabel('C1 Residual (mS/cm)')\n",
    "    ax.set_ylabel('Pressure (dbar)')\n",
    "    cbar = fig.colorbar(cm)\n",
    "    cbar.set_label('Station Number')\n",
    "\n",
    "\n",
    "def btl_c2_residuals_pressure_plot(df):\n",
    "    fig = plt.figure()\n",
    "    ax = fig.add_subplot(1,1,1)\n",
    "    cm = ax.scatter(df['BTL_C2'],-df['CTDPRS'], marker='+', c=df['SSSCC'].str[0:3].astype(int), cmap='rainbow')\n",
    "    ax.set_xlim(-0.02,0.02)\n",
    "    ax.set_title('BTLCOND-CTDCOND2 vs CTDPRS')\n",
    "    ax.set_xlabel('C2 Residual (mS/cm)')\n",
    "    ax.set_ylabel('Pressure (dbar)')\n",
    "    cbar = fig.colorbar(cm)\n",
    "    cbar.set_label('Station Number')\n",
    "\n",
    "\n",
    "def c1_c2_residuals_pressure_plot(df):\n",
    "    fig = plt.figure()\n",
    "    ax = fig.add_subplot(1,1,1)\n",
    "    cm = ax.scatter(df['C1_C2'],-df['CTDPRS'], marker='+', c=df['SSSCC'].str[0:3].astype(int), cmap='rainbow')\n",
    "    ax.set_xlim(-0.02,0.02)\n",
    "    ax.set_title('CTDCOND1-CTDCOND2 vs CTDPRS')\n",
    "    ax.set_xlabel('C1-C2 Residual (mS/cm)')\n",
    "    ax.set_ylabel('Pressure (dbar)')\n",
    "    cbar = fig.colorbar(cm)\n",
    "    cbar.set_label('Station Number')\n"
   ]
  },
  {
   "cell_type": "code",
   "execution_count": null,
   "metadata": {},
   "outputs": [],
   "source": [
    "btl_oxy_residuals_pressure_plot(df_good)"
   ]
  },
  {
   "cell_type": "code",
   "execution_count": null,
   "metadata": {},
   "outputs": [],
   "source": [
    "import ctdcal.merge_codes as merge_codes"
   ]
  },
  {
   "cell_type": "code",
   "execution_count": null,
   "metadata": {},
   "outputs": [],
   "source": [
    "btl_data_all['REFTMP'] = btl_data_all['T90']"
   ]
  },
  {
   "cell_type": "code",
   "execution_count": null,
   "metadata": {},
   "outputs": [],
   "source": [
    "btl_data_all['C1_C2'] = btl_data_all['CTDCOND1'] - btl_data_all['CTDCOND2']\n",
    "btl_data_all['BTLCOND'] = gsw.C_from_SP(btl_data_all['SALNTY'], btl_data_all['CTDTMP1'], btl_data_all['CTDPRS'])\n",
    "sal_df = btl_data_all[btl_data_all['SALNTY_FLAG_W'] != 9].copy()\n",
    "sal_df['BTL_C1'] = sal_df['BTLCOND'] - sal_df['CTDCOND1']\n",
    "sal_df['BTL_C2'] = sal_df['BTLCOND'] - sal_df['CTDCOND2']\n",
    "sal_df.loc[(sal_df['CTDPRS'] >= 900) & (sal_df['BTL_C2']  <= -0.008),'CTDSAL_FLAG_W'] = 3 \n",
    "sal_df = sal_df[sal_df['SALNTY_FLAG_W'] == 2]\n",
    "sal_df = sal_df[sal_df['CTDSAL_FLAG_W'] == 2]\n",
    "sal_df.loc[sal_df['SSSCC'] == '18603','SSSCC'] = '01863'"
   ]
  },
  {
   "cell_type": "code",
   "execution_count": null,
   "metadata": {},
   "outputs": [],
   "source": [
    "btl_c1_residuals_pressure_plot(sal_df)"
   ]
  },
  {
   "cell_type": "code",
   "execution_count": null,
   "metadata": {},
   "outputs": [],
   "source": [
    "btl_c2_residuals_pressure_plot(sal_df)"
   ]
  },
  {
   "cell_type": "code",
   "execution_count": null,
   "metadata": {},
   "outputs": [],
   "source": [
    "c1_c2_residuals_pressure_plot(sal_df)"
   ]
  },
  {
   "cell_type": "code",
   "execution_count": null,
   "metadata": {},
   "outputs": [],
   "source": [
    "btl_data_all['STNNO'].values"
   ]
  },
  {
   "cell_type": "code",
   "execution_count": null,
   "metadata": {},
   "outputs": [],
   "source": [
    "sal_df.loc[(sal_df['CTDPRS'] >=1000) & (sal_df['BTL_C1'] <= -0.010),['SSSCC','CTDPRS','BTL_C2']]"
   ]
  },
  {
   "cell_type": "code",
   "execution_count": null,
   "metadata": {},
   "outputs": [],
   "source": [
    "sal_df.loc[(sal_df['CTDPRS'] >=900) & (sal_df['BTL_C2'] <= -0.010),['SSSCC','CTDPRS','BTL_C2']]"
   ]
  },
  {
   "cell_type": "code",
   "execution_count": null,
   "metadata": {},
   "outputs": [],
   "source": [
    "#Salinity\n",
    "print('Fractions of bad salinities by station:')\n",
    "ssscc.sort()\n",
    "for station in ssscc:\n",
    "    btl_data = btl_data_all[btl_data_all['SSSCC'] == station].copy()\n",
    "    btl_data = btl_data[btl_data['SALNTY_FLAG_W'] != 9]\n",
    "    per_bad = len(btl_data[btl_data['SALNTY_FLAG_W'] == 3])/len(btl_data)\n",
    "    print(station,' :',per_bad)\n",
    "    "
   ]
  },
  {
   "cell_type": "code",
   "execution_count": null,
   "metadata": {},
   "outputs": [],
   "source": [
    "import cmocean\n",
    "import ctdcal.ctd_plots as ctd_plots"
   ]
  },
  {
   "cell_type": "code",
   "execution_count": null,
   "metadata": {},
   "outputs": [],
   "source": [
    "btl_data_all.loc[btl_data_all['STNNO'] == '186','STNNO'] = '018'\n",
    "btl_data_all.loc[btl_data_all['STNNO'] == '183','STNNO'] = '018'"
   ]
  },
  {
   "cell_type": "code",
   "execution_count": null,
   "metadata": {},
   "outputs": [],
   "source": [
    "btl_data_all = btl_data_all[btl_data_all['CTDSAL_FLAG_W'] == 2].copy()\n",
    "btl_data_all = btl_data_all[btl_data_all['CTDOXY_FLAG_W'] == 2].copy()\n",
    "btl_data_all = btl_data_all[btl_data_all['SALNTY_FLAG_W'] == 2].copy()\n",
    "btl_data_all = btl_data_all[btl_data_all['REFTMP_FLAG_W'] == 2].copy()\n",
    "btl_data_all['BTLCOND'] = gsw.C_from_SP(btl_data_all['SALNTY'],btl_data_all['CTDTMP2'],btl_data_all['CTDPRS'])"
   ]
  },
  {
   "cell_type": "code",
   "execution_count": null,
   "metadata": {},
   "outputs": [],
   "source": [
    "btl_data_all['cond2_res'] = btl_data_all['BTLCOND'] - btl_data_all['CTDCOND2']"
   ]
  },
  {
   "cell_type": "code",
   "execution_count": null,
   "metadata": {},
   "outputs": [],
   "source": [
    "btl_data_all = btl_data_all[btl_data_all['cond2_res'].abs() <= 0.025]\n"
   ]
  },
  {
   "cell_type": "code",
   "execution_count": null,
   "metadata": {},
   "outputs": [],
   "source": [
    "btl_data_all['C1SAL'] = gsw.SP_from_C(btl_data_all['CTDCOND1'],btl_data_all['CTDTMP1'],btl_data_all['CTDPRS'])\n",
    "btl_data_all['C2SAL'] = gsw.SP_from_C(btl_data_all['CTDCOND2'],btl_data_all['CTDTMP2'],btl_data_all['CTDPRS'])"
   ]
  },
  {
   "cell_type": "code",
   "execution_count": null,
   "metadata": {},
   "outputs": [],
   "source": [
    "btl_data_all['STNNO'] = btl_data_all['STNNO'].astype(int)\n",
    "ctd_plots.btl_c1_residuals_compare_plot(btl_data_all['BTLCOND'],btl_data_all['CTDCOND1'],btl_data_all['CTDPRS'])\n",
    "ctd_plots.btl_c1_residuals_pressure_plot(btl_data_all['BTLCOND'], btl_data_all['CTDCOND1'],btl_data_all['CTDPRS'],btl_data_all['STNNO'])\n",
    "ctd_plots.btl_c1_residuals_station_deep_plot(btl_data_all['BTLCOND'], btl_data_all['CTDCOND1'],btl_data_all['CTDPRS'],btl_data_all['STNNO'])\n",
    "ctd_plots.btl_c1_residuals_station_plot(btl_data_all['BTLCOND'], btl_data_all['CTDCOND1'],btl_data_all['CTDPRS'],btl_data_all['STNNO'])\n",
    "ctd_plots.btl_c1_residuals_station_uncorrected_plot(btl_data_all['BTLCOND'], btl_data_all['CTDCOND1'],btl_data_all['CTDPRS'],btl_data_all['STNNO'])\n",
    "\n",
    "ctd_plots.btl_c2_residuals_compare_plot(btl_data_all['BTLCOND'], btl_data_all['CTDCOND2'], btl_data_all['CTDPRS'])\n",
    "ctd_plots.btl_c2_residuals_pressure_plot(btl_data_all['BTLCOND'], btl_data_all['CTDCOND2'],btl_data_all['CTDPRS'],btl_data_all['STNNO'])\n",
    "ctd_plots.btl_c2_residuals_station_deep_plot(btl_data_all['BTLCOND'], btl_data_all['CTDCOND2'],btl_data_all['CTDPRS'],btl_data_all['STNNO'])\n",
    "ctd_plots.btl_c2_residuals_station_plot(btl_data_all['BTLCOND'], btl_data_all['CTDCOND2'],btl_data_all['CTDPRS'],btl_data_all['STNNO'])\n",
    "ctd_plots.btl_c2_residuals_station_uncorrected_plot(btl_data_all['BTLCOND'], btl_data_all['CTDCOND2'],btl_data_all['CTDPRS'],btl_data_all['STNNO'])\n",
    "\n",
    "btl_data_all['C1_C2'] = btl_data_all['CTDCOND1'] - btl_data_all['CTDCOND2']\n",
    "btl_data_all['T1_T2'] = btl_data_all['CTDTMP1'] - btl_data_all['CTDTMP2']\n",
    "test = btl_data_all[btl_data_all['C1_C2'] >= -0.021]\n",
    "ctd_plots.c_t_coherence_plot(test['CTDTMP1'], test['CTDTMP2'], test['CTDCOND1'], test['CTDCOND2'], test['CTDPRS'])\n",
    "ctd_plots.c1_c2_residuals_compare_plot(btl_data_all['BTLCOND'],btl_data_all['CTDCOND1'], btl_data_all['CTDCOND2'], btl_data_all['CTDPRS'])\n",
    "ctd_plots.c1_c2_residuals_pressure_plot(btl_data_all['CTDCOND1'], btl_data_all['CTDCOND2'], btl_data_all['CTDPRS'], btl_data_all['STNNO'])\n",
    "ctd_plots.c1_c2_residuals_station_deep_plot(btl_data_all['CTDCOND1'], btl_data_all['CTDCOND2'], btl_data_all['CTDPRS'], btl_data_all['STNNO'])\n",
    "ctd_plots.c1_c2_residuals_station_plot(btl_data_all['CTDCOND1'], btl_data_all['CTDCOND2'], btl_data_all['CTDPRS'], btl_data_all['STNNO'])\n",
    "ctd_plots.c1_c2_residuals_station_uncorrected_plot(btl_data_all['CTDCOND1'], btl_data_all['CTDCOND2'], btl_data_all['CTDPRS'], btl_data_all['STNNO'])\n",
    "\n",
    "ctd_plots.btl_sal_station_plot(btl_data_all['SALNTY'],btl_data_all['C2SAL'],btl_data_all['CTDPRS'],btl_data_all['STNNO'])\n",
    "ctd_plots.btl_sal_station_deep_plot(btl_data_all['SALNTY'],btl_data_all['C2SAL'],btl_data_all['CTDPRS'],btl_data_all['STNNO'])\n",
    "ctd_plots.btl_sal_pressure_plot(btl_data_all['SALNTY'],btl_data_all['C2SAL'],btl_data_all['CTDPRS'],btl_data_all['STNNO'])\n",
    "\n",
    "ctd_plots.btl_t1_residuals_pressure_plot(btl_data_all['T90'], btl_data_all['CTDTMP1'],btl_data_all['CTDPRS'],btl_data_all['STNNO'])\n",
    "ctd_plots.btl_t1_residuals_station_deep_plot(btl_data_all['T90'], btl_data_all['CTDTMP1'],btl_data_all['CTDPRS'],btl_data_all['STNNO'])\n",
    "ctd_plots.btl_t1_residuals_station_plot(btl_data_all['T90'], btl_data_all['CTDTMP1'],btl_data_all['CTDPRS'],btl_data_all['STNNO'])\n",
    "\n",
    "ctd_plots.btl_t2_residuals_pressure_plot(btl_data_all['T90'], btl_data_all['CTDTMP2'],btl_data_all['CTDPRS'],btl_data_all['STNNO'])\n",
    "ctd_plots.btl_t2_residuals_station_deep_plot(btl_data_all['T90'], btl_data_all['CTDTMP2'],btl_data_all['CTDPRS'],btl_data_all['STNNO'])\n",
    "ctd_plots.btl_t2_residuals_station_plot(btl_data_all['T90'], btl_data_all['CTDTMP2'],btl_data_all['CTDPRS'],btl_data_all['STNNO'])\n",
    "\n",
    "ctd_plots.t1_t2_residuals_pressure_plot(btl_data_all['CTDTMP1'], btl_data_all['CTDTMP2'], btl_data_all['CTDPRS'], btl_data_all['STNNO'].astype(int))\n",
    "ctd_plots.t1_t2_residuals_station_deep_plot(btl_data_all['CTDTMP1'], btl_data_all['CTDTMP2'], btl_data_all['CTDPRS'], btl_data_all['STNNO'])\n",
    "ctd_plots.t1_t2_residuals_station_plot(btl_data_all['CTDTMP1'], btl_data_all['CTDTMP2'], btl_data_all['CTDPRS'], btl_data_all['STNNO'])\n",
    "\n",
    "ctd_plots.btl_oxy_residuals_pressure_concentration_plot(btl_data_all['OXYGEN'], btl_data_all['CTDOXY'], btl_data_all['STNNO'])\n",
    "ctd_plots.btl_oxy_residuals_pressure_plot(btl_data_all['OXYGEN'], btl_data_all['CTDOXY'], btl_data_all['CTDPRS'], btl_data_all['STNNO'])\n",
    "ctd_plots.btl_oxy_residuals_station_concentration_plot(btl_data_all['OXYGEN'], btl_data_all['CTDOXY'], btl_data_all['CTDPRS'], btl_data_all['STNNO'])\n",
    "ctd_plots.btl_oxy_residuals_station_deep_plot(btl_data_all['OXYGEN'], btl_data_all['CTDOXY'], btl_data_all['CTDPRS'], btl_data_all['STNNO'])\n",
    "ctd_plots.btl_oxy_residuals_station_deep_temperature_plot(btl_data_all['OXYGEN'], btl_data_all['CTDOXY'], btl_data_all['CTDTMP1'], btl_data_all['CTDPRS'], btl_data_all['STNNO'])\n",
    "ctd_plots.btl_oxy_residuals_station_plot(btl_data_all['OXYGEN'], btl_data_all['CTDOXY'], btl_data_all['CTDPRS'], btl_data_all['STNNO'])\n",
    "ctd_plots.btl_oxy_residuals_station_temperature_plot(btl_data_all['OXYGEN'], btl_data_all['CTDOXY'], btl_data_all['CTDTMP1'], btl_data_all['STNNO'])\n",
    "ctd_plots.btl_oxy_residuals_temperature_plot(btl_data_all['OXYGEN'], btl_data_all['CTDOXY'], btl_data_all['CTDTMP1'], btl_data_all['STNNO'])\n",
    "\n"
   ]
  },
  {
   "cell_type": "code",
   "execution_count": null,
   "metadata": {},
   "outputs": [],
   "source": [
    "btl_data_all['C1_C2'] = btl_data_all['CTDCOND1'] - btl_data_all['CTDCOND2']\n",
    "btl_data_all['T1_T2'] = btl_data_all['CTDTMP1'] - btl_data_all['CTDTMP2']"
   ]
  },
  {
   "cell_type": "code",
   "execution_count": null,
   "metadata": {},
   "outputs": [],
   "source": [
    "    fig = plt.figure()\n",
    "    ax = fig.add_subplot(1,1,1)\n",
    "    cm = ax.scatter(test['T1_T2'], test['C1_C2'], marker='+', c=test['CTDPRS'], cmap=plt.cm.viridis_r)"
   ]
  },
  {
   "cell_type": "code",
   "execution_count": null,
   "metadata": {},
   "outputs": [],
   "source": [
    "test[['CTDCOND1','CTDCOND2','BTLCOND']]"
   ]
  },
  {
   "cell_type": "code",
   "execution_count": null,
   "metadata": {},
   "outputs": [],
   "source": [
    "    t1_t2 = t1_vals - t2_vals\n",
    "    c1_c2 = c1_vals - c2_vals\n",
    "    \n",
    "    fig = plt.figure()\n",
    "    ax = fig.add_subplot(1,1,1)\n",
    "    cm = ax.scatter(t1_t2, c1_c2, marker='+', c=press, cmap=plt.cm.viridis_r)\n",
    "    ax.set_xlim(-0.02,0.02)\n",
    "    ax.set_title('T1-T2 vs C1-C2')\n",
    "    ax.set_xlabel('T1-T2 Residual (T90 C)')\n",
    "    ax.set_ylabel('C1-C2 Residual (mS/cm)')\n",
    "    cbar = fig.colorbar(cm)\n",
    "    cbar.set_label('Pressure (dbar)')\n",
    "\n"
   ]
  }
 ],
 "metadata": {
  "kernelspec": {
   "display_name": "Python 3",
   "language": "python",
   "name": "python3"
  },
  "language_info": {
   "codemirror_mode": {
    "name": "ipython",
    "version": 3
   },
   "file_extension": ".py",
   "mimetype": "text/x-python",
   "name": "python",
   "nbconvert_exporter": "python",
   "pygments_lexer": "ipython3",
   "version": "3.7.3"
  }
 },
 "nbformat": 4,
 "nbformat_minor": 2
}
