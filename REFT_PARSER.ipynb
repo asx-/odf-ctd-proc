{
 "cells": [
  {
   "cell_type": "code",
   "execution_count": 4,
   "metadata": {},
   "outputs": [],
   "source": [
    "import csv\n",
    "import pandas as pd\n",
    "import numpy as np\n",
    "import sys\n",
    "sys.path.append('ctdcal/')\n",
    "import settings"
   ]
  },
  {
   "cell_type": "code",
   "execution_count": 17,
   "metadata": {},
   "outputs": [],
   "source": [
    "settings.ssscc = ['03803-03903']"
   ]
  },
  {
   "cell_type": "code",
   "execution_count": 18,
   "metadata": {},
   "outputs": [],
   "source": [
    "#station = '18603'"
   ]
  },
  {
   "cell_type": "code",
   "execution_count": 19,
   "metadata": {},
   "outputs": [],
   "source": [
    "# FILE_IN_PREFIX = './data/reft/'\n",
    "# line = station\n",
    "# FILE_IN_SUFFIX = '.cap'\n",
    "# FILE_OUT_SUFFIX = '_reft.csv'\n",
    "\n",
    "# f = FILE_IN_PREFIX + station + FILE_IN_SUFFIX\n",
    "\n",
    "# f_out = FILE_IN_PREFIX + station"
   ]
  },
  {
   "cell_type": "code",
   "execution_count": 20,
   "metadata": {},
   "outputs": [],
   "source": [
    "def parse(f, f_out):\n",
    "    #second half of final output\n",
    "    array = []\n",
    "    reader = csv.reader(f, delimiter=' ')\n",
    "\n",
    "    #break row down to a standardized size\n",
    "    for row in reader:\n",
    "        row2 = []\n",
    "        for x in row:\n",
    "            if x != '':\n",
    "                row2.append(x)\n",
    "\n",
    "        #if not a fixed size, assume it's a comment and to be ignored\n",
    "        if len(row2) != 17:\n",
    "            continue\n",
    "\n",
    "        #start to build list to be written out\n",
    "        row3 = []\n",
    "        #hardcoded madness because it probably won't change anytime soon.\n",
    "        row3.append(row2[0])\n",
    "        #concatenate date/time, convert to ISO8601 later\n",
    "        row3.append(row2[1] + ' ' + row2[2] + ' ' + row2[3] + ' ' + row2[4])\n",
    "        row3.append(row2[7])\n",
    "        row3.append(row2[10])\n",
    "        row3.append(row2[13])\n",
    "        row3.append(row2[16])\n",
    "        array.append(row3)\n",
    "\n",
    "    #create header to be plased in\n",
    "    header = ['index_memory', 'datetime', 'btl_fire_num', 'diff', 'raw_value', 'T90']\n",
    "\n",
    "    #fix here to output according to new name\n",
    "    with open(f_out + FILE_OUT_SUFFIX, 'w') as csvf:\n",
    "        csvw = csv.writer(csvf)\n",
    "        csvw.writerow(header)\n",
    "        for x in array:\n",
    "            csvw.writerow(x)\n",
    "\n",
    "    nparray = np.array(array)\n",
    "    df = pd.DataFrame(nparray, columns=['index_memory', 'datetime', 'btl_fire_num', 'diff', 'raw_value', 'T90'])\n",
    "    df = df.astype({'index_memory':np.int32, 'datetime':object, 'btl_fire_num':np.int32, 'diff':np.int32, 'raw_value':np.float64, 'T90':np.float64})\n",
    "    #assign initial flags\n",
    "    df.loc[:,'REFTMP_FLAG_W'] = 2\n",
    "    df.loc[abs(df['diff']) >= 3000, \"REFTMP_FLAG_W\"] = 3\n",
    "    #add in STNNBR, CASTNO columns\n",
    "    df['STNNBR'] = f_out[0:3]\n",
    "    df['CASTNO'] = f_out[3:5]\n",
    "    return df"
   ]
  },
  {
   "cell_type": "code",
   "execution_count": 21,
   "metadata": {},
   "outputs": [],
   "source": [
    "for station in settings.ssscc:\n",
    "    FILE_IN_PREFIX = './data/reft/'\n",
    "    line = station\n",
    "    FILE_IN_SUFFIX = '.cap'\n",
    "    FILE_OUT_SUFFIX = '_reft.csv'\n",
    "\n",
    "    f = FILE_IN_PREFIX + station + FILE_IN_SUFFIX\n",
    "\n",
    "    f_out = FILE_IN_PREFIX + station\n",
    "    with open('{}{}{}'.format(FILE_IN_PREFIX, line, FILE_IN_SUFFIX), 'r') as ssscc_reftemp:\n",
    "        #create old csv files and new pkl file\n",
    "        df_part = parse(ssscc_reftemp, line)\n",
    "\n",
    "    file = FILE_IN_PREFIX + line + FILE_OUT_SUFFIX\n",
    "    df_part.to_csv(file,index=False)"
   ]
  },
  {
   "cell_type": "code",
   "execution_count": 22,
   "metadata": {},
   "outputs": [
    {
     "data": {
      "text/plain": [
       "'./data/reft/03803-03903_reft.csv'"
      ]
     },
     "execution_count": 22,
     "metadata": {},
     "output_type": "execute_result"
    }
   ],
   "source": [
    "file"
   ]
  },
  {
   "cell_type": "code",
   "execution_count": null,
   "metadata": {},
   "outputs": [],
   "source": []
  }
 ],
 "metadata": {
  "kernelspec": {
   "display_name": "Python 3",
   "language": "python",
   "name": "python3"
  },
  "language_info": {
   "codemirror_mode": {
    "name": "ipython",
    "version": 3
   },
   "file_extension": ".py",
   "mimetype": "text/x-python",
   "name": "python",
   "nbconvert_exporter": "python",
   "pygments_lexer": "ipython3",
   "version": "3.6.3"
  }
 },
 "nbformat": 4,
 "nbformat_minor": 2
}
